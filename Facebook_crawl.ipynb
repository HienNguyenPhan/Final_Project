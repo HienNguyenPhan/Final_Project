{
 "cells": [
  {
   "cell_type": "markdown",
   "metadata": {},
   "source": [
    "# Thu thập và phân tích dữ liệu từ một page Facebook\n",
    "# Bước 1: Thu thập dữ liệu "
   ]
  },
  {
   "cell_type": "markdown",
   "metadata": {},
   "source": [
    "# Sử dụng Facebook Scraper để thu thập"
   ]
  },
  {
   "cell_type": "code",
   "execution_count": null,
   "metadata": {},
   "outputs": [],
   "source": [
    "%pip install facebook_scraper pandas numpy\n",
    "from facebook_scraper import get_posts\n",
    "import pandas as pd\n",
    "import numpy as np\n",
    "import os"
   ]
  },
  {
   "cell_type": "code",
   "execution_count": 11,
   "metadata": {},
   "outputs": [],
   "source": [
    "FANPAGE_LINK =\"Steam\"\n",
    "FOLDER_PATH = \"Data/\"\n",
    "COOKIE_PATH = \"./mbasic.facebook.com_cookies.txt\"\n",
    "\n",
    "PAGES_NUMBER = 100 # Number of pages to crawl\n",
    "\n",
    "post_list = []\n",
    "for post in get_posts(FANPAGE_LINK,\n",
    "                    options={\"comments\": True, \"reactions\": True, \"allow_extra_requests\": True},\n",
    "                    extra_info=True, pages=PAGES_NUMBER, cookies=COOKIE_PATH):\n",
    "    print(post)\n",
    "    post_list.append(post)"
   ]
  },
  {
   "cell_type": "markdown",
   "metadata": {},
   "source": [
    "# Chuyển dict này thành Dataframe"
   ]
  },
  {
   "cell_type": "code",
   "execution_count": null,
   "metadata": {},
   "outputs": [],
   "source": [
    "# Initialize dataframe to scrape Facebook post\n",
    "post_df_full = pd.DataFrame(columns=post_list[0].keys(), index=range(len(post_list)), data=post_list)\n",
    "\n",
    "# To df\n",
    "path=FOLDER_PATH + \"RawData.csv\"\n",
    "post_df_full.to_csv(path, index=False)\n",
    "print(path)"
   ]
  },
  {
   "cell_type": "code",
   "execution_count": 3,
   "metadata": {},
   "outputs": [
    {
     "name": "stdout",
     "output_type": "stream",
     "text": [
      "<class 'pandas.core.frame.DataFrame'>\n",
      "RangeIndex: 200 entries, 0 to 199\n",
      "Data columns (total 15 columns):\n",
      " #   Column        Non-Null Count  Dtype \n",
      "---  ------        --------------  ----- \n",
      " 0   created_time  200 non-null    object\n",
      " 1   from          200 non-null    object\n",
      " 2   updated_time  200 non-null    object\n",
      " 3   message       200 non-null    object\n",
      " 4   type          200 non-null    object\n",
      " 5   picture       116 non-null    object\n",
      " 6   like          200 non-null    object\n",
      " 7   love          200 non-null    object\n",
      " 8   haha          200 non-null    object\n",
      " 9   wow           200 non-null    object\n",
      " 10  angry         200 non-null    object\n",
      " 11  sad           200 non-null    object\n",
      " 12  comments      200 non-null    object\n",
      " 13  shares        192 non-null    object\n",
      " 14  id            200 non-null    object\n",
      "dtypes: object(15)\n",
      "memory usage: 23.6+ KB\n"
     ]
    }
   ],
   "source": [
    "# Giờ ta sẽ sử dụng Dataframe đã tạo Valve.csv để phân tích\n",
    "df = pd.read_csv('Data/RawData.csv')\n",
    "df.info()"
   ]
  },
  {
   "cell_type": "markdown",
   "metadata": {},
   "source": [
    "# Bước 2: Làm sạch và tiền xử lý dữ liệu"
   ]
  },
  {
   "cell_type": "code",
   "execution_count": 4,
   "metadata": {},
   "outputs": [
    {
     "data": {
      "text/plain": [
       "Index(['created_time', 'from', 'updated_time', 'message', 'type', 'picture',\n",
       "       'like', 'love', 'haha', 'wow', 'angry', 'sad', 'comments', 'shares',\n",
       "       'id'],\n",
       "      dtype='object')"
      ]
     },
     "execution_count": 4,
     "metadata": {},
     "output_type": "execute_result"
    }
   ],
   "source": [
    "#Drop những column không cần dùng và những column có quá nhiều giá trị NaN\n",
    "df = df.dropna(thresh=10, axis='columns')\n",
    "df.columns\n",
    "\n"
   ]
  },
  {
   "cell_type": "code",
   "execution_count": 5,
   "metadata": {},
   "outputs": [],
   "source": [
    "#Những cột này không có giá trị sử dụng khi phân tích dữ liệu\n",
    "df = df.drop(columns=['from','id','updated_time'])"
   ]
  },
  {
   "cell_type": "code",
   "execution_count": 6,
   "metadata": {},
   "outputs": [
    {
     "data": {
      "text/html": [
       "<div>\n",
       "<style scoped>\n",
       "    .dataframe tbody tr th:only-of-type {\n",
       "        vertical-align: middle;\n",
       "    }\n",
       "\n",
       "    .dataframe tbody tr th {\n",
       "        vertical-align: top;\n",
       "    }\n",
       "\n",
       "    .dataframe thead th {\n",
       "        text-align: right;\n",
       "    }\n",
       "</style>\n",
       "<table border=\"1\" class=\"dataframe\">\n",
       "  <thead>\n",
       "    <tr style=\"text-align: right;\">\n",
       "      <th></th>\n",
       "      <th>created_time</th>\n",
       "      <th>message</th>\n",
       "      <th>type</th>\n",
       "      <th>picture</th>\n",
       "      <th>like</th>\n",
       "      <th>love</th>\n",
       "      <th>haha</th>\n",
       "      <th>wow</th>\n",
       "      <th>angry</th>\n",
       "      <th>sad</th>\n",
       "      <th>comments</th>\n",
       "      <th>shares</th>\n",
       "    </tr>\n",
       "  </thead>\n",
       "  <tbody>\n",
       "    <tr>\n",
       "      <th>0</th>\n",
       "      <td>2023-09-21T02:01:15+0000</td>\n",
       "      <td>Đang hí hửng có việc thì thấy phải kí hợp đồng...</td>\n",
       "      <td>status</td>\n",
       "      <td>NaN</td>\n",
       "      <td>{'data': [], 'summary': {'total_count': 3047, ...</td>\n",
       "      <td>{'data': [], 'summary': {'total_count': 5, 'vi...</td>\n",
       "      <td>{'data': [], 'summary': {'total_count': 2021, ...</td>\n",
       "      <td>{'data': [], 'summary': {'total_count': 6, 'vi...</td>\n",
       "      <td>{'data': [], 'summary': {'total_count': 1, 'vi...</td>\n",
       "      <td>{'data': [], 'summary': {'total_count': 69, 'v...</td>\n",
       "      <td>{'data': [{'message': 'Rất là không đúng luật ...</td>\n",
       "      <td>{'count': 28}</td>\n",
       "    </tr>\n",
       "    <tr>\n",
       "      <th>1</th>\n",
       "      <td>2023-09-20T14:03:24+0000</td>\n",
       "      <td>Trực page nhưng nóng tính #BTEDL #agencycam</td>\n",
       "      <td>video</td>\n",
       "      <td>https://scontent.fhan3-2.fna.fbcdn.net/v/t15.5...</td>\n",
       "      <td>{'data': [], 'summary': {'total_count': 1313, ...</td>\n",
       "      <td>{'data': [], 'summary': {'total_count': 12, 'v...</td>\n",
       "      <td>{'data': [], 'summary': {'total_count': 1506, ...</td>\n",
       "      <td>{'data': [], 'summary': {'total_count': 2, 'vi...</td>\n",
       "      <td>{'data': [], 'summary': {'total_count': 0, 'vi...</td>\n",
       "      <td>{'data': [], 'summary': {'total_count': 11, 'v...</td>\n",
       "      <td>{'data': [{'message': 'Nguyễn HồngAnh', 'creat...</td>\n",
       "      <td>{'count': 68}</td>\n",
       "    </tr>\n",
       "    <tr>\n",
       "      <th>2</th>\n",
       "      <td>2023-09-20T13:00:05+0000</td>\n",
       "      <td>Top những lý do chị em hay dùng nhất ...\\n#Dia...</td>\n",
       "      <td>photo</td>\n",
       "      <td>https://scontent.fhan3-4.fna.fbcdn.net/v/t39.3...</td>\n",
       "      <td>{'data': [], 'summary': {'total_count': 2754, ...</td>\n",
       "      <td>{'data': [], 'summary': {'total_count': 0, 'vi...</td>\n",
       "      <td>{'data': [], 'summary': {'total_count': 513, '...</td>\n",
       "      <td>{'data': [], 'summary': {'total_count': 1, 'vi...</td>\n",
       "      <td>{'data': [], 'summary': {'total_count': 0, 'vi...</td>\n",
       "      <td>{'data': [], 'summary': {'total_count': 1, 'vi...</td>\n",
       "      <td>{'data': [{'message': 'Xem em zi Rap Kiều để b...</td>\n",
       "      <td>NaN</td>\n",
       "    </tr>\n",
       "    <tr>\n",
       "      <th>3</th>\n",
       "      <td>2023-09-20T10:50:40+0000</td>\n",
       "      <td>Lớn rồi ai luỵ nyc, tôi luỵ đồng nghiệp nghỉ v...</td>\n",
       "      <td>status</td>\n",
       "      <td>NaN</td>\n",
       "      <td>{'data': [], 'summary': {'total_count': 7250, ...</td>\n",
       "      <td>{'data': [], 'summary': {'total_count': 41, 'v...</td>\n",
       "      <td>{'data': [], 'summary': {'total_count': 5974, ...</td>\n",
       "      <td>{'data': [], 'summary': {'total_count': 10, 'v...</td>\n",
       "      <td>{'data': [], 'summary': {'total_count': 0, 'vi...</td>\n",
       "      <td>{'data': [], 'summary': {'total_count': 485, '...</td>\n",
       "      <td>{'data': [{'message': 'Chị đồng nghiệp thân ng...</td>\n",
       "      <td>{'count': 300}</td>\n",
       "    </tr>\n",
       "    <tr>\n",
       "      <th>4</th>\n",
       "      <td>2023-09-20T08:12:25+0000</td>\n",
       "      <td>Tự dưng phải đi làm sau 3,4 tháng thất nghiệp....</td>\n",
       "      <td>photo</td>\n",
       "      <td>https://scontent.fhan3-2.fna.fbcdn.net/v/t39.3...</td>\n",
       "      <td>{'data': [], 'summary': {'total_count': 5307, ...</td>\n",
       "      <td>{'data': [], 'summary': {'total_count': 11, 'v...</td>\n",
       "      <td>{'data': [], 'summary': {'total_count': 3773, ...</td>\n",
       "      <td>{'data': [], 'summary': {'total_count': 4, 'vi...</td>\n",
       "      <td>{'data': [], 'summary': {'total_count': 1, 'vi...</td>\n",
       "      <td>{'data': [], 'summary': {'total_count': 271, '...</td>\n",
       "      <td>{'data': [{'message': 'Thấy lạ lạ quá, giá như...</td>\n",
       "      <td>{'count': 243}</td>\n",
       "    </tr>\n",
       "  </tbody>\n",
       "</table>\n",
       "</div>"
      ],
      "text/plain": [
       "               created_time  \\\n",
       "0  2023-09-21T02:01:15+0000   \n",
       "1  2023-09-20T14:03:24+0000   \n",
       "2  2023-09-20T13:00:05+0000   \n",
       "3  2023-09-20T10:50:40+0000   \n",
       "4  2023-09-20T08:12:25+0000   \n",
       "\n",
       "                                             message    type  \\\n",
       "0  Đang hí hửng có việc thì thấy phải kí hợp đồng...  status   \n",
       "1        Trực page nhưng nóng tính #BTEDL #agencycam   video   \n",
       "2  Top những lý do chị em hay dùng nhất ...\\n#Dia...   photo   \n",
       "3  Lớn rồi ai luỵ nyc, tôi luỵ đồng nghiệp nghỉ v...  status   \n",
       "4  Tự dưng phải đi làm sau 3,4 tháng thất nghiệp....   photo   \n",
       "\n",
       "                                             picture  \\\n",
       "0                                                NaN   \n",
       "1  https://scontent.fhan3-2.fna.fbcdn.net/v/t15.5...   \n",
       "2  https://scontent.fhan3-4.fna.fbcdn.net/v/t39.3...   \n",
       "3                                                NaN   \n",
       "4  https://scontent.fhan3-2.fna.fbcdn.net/v/t39.3...   \n",
       "\n",
       "                                                like  \\\n",
       "0  {'data': [], 'summary': {'total_count': 3047, ...   \n",
       "1  {'data': [], 'summary': {'total_count': 1313, ...   \n",
       "2  {'data': [], 'summary': {'total_count': 2754, ...   \n",
       "3  {'data': [], 'summary': {'total_count': 7250, ...   \n",
       "4  {'data': [], 'summary': {'total_count': 5307, ...   \n",
       "\n",
       "                                                love  \\\n",
       "0  {'data': [], 'summary': {'total_count': 5, 'vi...   \n",
       "1  {'data': [], 'summary': {'total_count': 12, 'v...   \n",
       "2  {'data': [], 'summary': {'total_count': 0, 'vi...   \n",
       "3  {'data': [], 'summary': {'total_count': 41, 'v...   \n",
       "4  {'data': [], 'summary': {'total_count': 11, 'v...   \n",
       "\n",
       "                                                haha  \\\n",
       "0  {'data': [], 'summary': {'total_count': 2021, ...   \n",
       "1  {'data': [], 'summary': {'total_count': 1506, ...   \n",
       "2  {'data': [], 'summary': {'total_count': 513, '...   \n",
       "3  {'data': [], 'summary': {'total_count': 5974, ...   \n",
       "4  {'data': [], 'summary': {'total_count': 3773, ...   \n",
       "\n",
       "                                                 wow  \\\n",
       "0  {'data': [], 'summary': {'total_count': 6, 'vi...   \n",
       "1  {'data': [], 'summary': {'total_count': 2, 'vi...   \n",
       "2  {'data': [], 'summary': {'total_count': 1, 'vi...   \n",
       "3  {'data': [], 'summary': {'total_count': 10, 'v...   \n",
       "4  {'data': [], 'summary': {'total_count': 4, 'vi...   \n",
       "\n",
       "                                               angry  \\\n",
       "0  {'data': [], 'summary': {'total_count': 1, 'vi...   \n",
       "1  {'data': [], 'summary': {'total_count': 0, 'vi...   \n",
       "2  {'data': [], 'summary': {'total_count': 0, 'vi...   \n",
       "3  {'data': [], 'summary': {'total_count': 0, 'vi...   \n",
       "4  {'data': [], 'summary': {'total_count': 1, 'vi...   \n",
       "\n",
       "                                                 sad  \\\n",
       "0  {'data': [], 'summary': {'total_count': 69, 'v...   \n",
       "1  {'data': [], 'summary': {'total_count': 11, 'v...   \n",
       "2  {'data': [], 'summary': {'total_count': 1, 'vi...   \n",
       "3  {'data': [], 'summary': {'total_count': 485, '...   \n",
       "4  {'data': [], 'summary': {'total_count': 271, '...   \n",
       "\n",
       "                                            comments          shares  \n",
       "0  {'data': [{'message': 'Rất là không đúng luật ...   {'count': 28}  \n",
       "1  {'data': [{'message': 'Nguyễn HồngAnh', 'creat...   {'count': 68}  \n",
       "2  {'data': [{'message': 'Xem em zi Rap Kiều để b...             NaN  \n",
       "3  {'data': [{'message': 'Chị đồng nghiệp thân ng...  {'count': 300}  \n",
       "4  {'data': [{'message': 'Thấy lạ lạ quá, giá như...  {'count': 243}  "
      ]
     },
     "execution_count": 6,
     "metadata": {},
     "output_type": "execute_result"
    }
   ],
   "source": [
    "df.head()"
   ]
  },
  {
   "cell_type": "code",
   "execution_count": 7,
   "metadata": {},
   "outputs": [
    {
     "data": {
      "text/plain": [
       "created_time     0\n",
       "message          0\n",
       "type             0\n",
       "picture         84\n",
       "like             0\n",
       "love             0\n",
       "haha             0\n",
       "wow              0\n",
       "angry            0\n",
       "sad              0\n",
       "comments         0\n",
       "shares           8\n",
       "dtype: int64"
      ]
     },
     "execution_count": 7,
     "metadata": {},
     "output_type": "execute_result"
    }
   ],
   "source": [
    "#Tìm những data bị NaN và xử lý \n",
    "df.isna().sum()"
   ]
  },
  {
   "cell_type": "code",
   "execution_count": 24,
   "metadata": {},
   "outputs": [
    {
     "data": {
      "text/plain": [
       "0       {'count': 28}\n",
       "1       {'count': 68}\n",
       "2        {'count': 0}\n",
       "3      {'count': 300}\n",
       "4      {'count': 243}\n",
       "            ...      \n",
       "195    {'count': 130}\n",
       "196    {'count': 282}\n",
       "197     {'count': 15}\n",
       "198    {'count': 751}\n",
       "199     {'count': 44}\n",
       "Name: shares, Length: 200, dtype: object"
      ]
     },
     "execution_count": 24,
     "metadata": {},
     "output_type": "execute_result"
    }
   ],
   "source": [
    "#Có thể thấy ở cột picture những giá trị NaN có nghĩa là post không có ảnh, ở cột shares những giá trị NaN có nghĩa là post không có lượt share nào\n",
    "df['picture'].fillna(\" \")\n",
    "df['shares'].fillna(\"{'count': 0}\")"
   ]
  }
 ],
 "metadata": {
  "kernelspec": {
   "display_name": "Python 3",
   "language": "python",
   "name": "python3"
  },
  "language_info": {
   "codemirror_mode": {
    "name": "ipython",
    "version": 3
   },
   "file_extension": ".py",
   "mimetype": "text/x-python",
   "name": "python",
   "nbconvert_exporter": "python",
   "pygments_lexer": "ipython3",
   "version": "3.11.6"
  }
 },
 "nbformat": 4,
 "nbformat_minor": 2
}
